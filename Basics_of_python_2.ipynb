{
  "nbformat": 4,
  "nbformat_minor": 0,
  "metadata": {
    "colab": {
      "name": "Basics of python 2",
      "provenance": [],
      "collapsed_sections": []
    },
    "kernelspec": {
      "name": "python3",
      "display_name": "Python 3"
    },
    "language_info": {
      "name": "python"
    }
  },
  "cells": [
    {
      "cell_type": "code",
      "execution_count": null,
      "metadata": {
        "colab": {
          "base_uri": "https://localhost:8080/"
        },
        "id": "NjgDnIt9Rks-",
        "outputId": "8ec00b32-9f44-4d16-c219-292c53a7d057"
      },
      "outputs": [
        {
          "output_type": "stream",
          "name": "stdout",
          "text": [
            "My name is prajakta\n",
            "prajakta\n"
          ]
        }
      ],
      "source": [
        "def f1():\n",
        "  global x\n",
        "  x='prajakta'\n",
        "  print(\"My name is\",x)\n",
        "  print(x)\n",
        "f1()"
      ]
    },
    {
      "cell_type": "code",
      "source": [
        "\n",
        "print(x)"
      ],
      "metadata": {
        "colab": {
          "base_uri": "https://localhost:8080/"
        },
        "id": "FoTpicxRXCXF",
        "outputId": "829fe031-4d39-445b-bd0c-7ca09e9144fa"
      },
      "execution_count": null,
      "outputs": [
        {
          "output_type": "stream",
          "name": "stdout",
          "text": [
            "prajakta\n"
          ]
        }
      ]
    },
    {
      "cell_type": "code",
      "source": [
        "#get all key word in python\n",
        "important keyword\n",
        "print(keyword,"
      ],
      "metadata": {
        "id": "vvD1m4uiX2yO"
      },
      "execution_count": null,
      "outputs": []
    },
    {
      "cell_type": "code",
      "source": [
        ""
      ],
      "metadata": {
        "id": "Lis93lXnoG5l"
      },
      "execution_count": null,
      "outputs": []
    },
    {
      "cell_type": "code",
      "source": [
        "#type of function\n",
        "x,y,z=5,\"global\",2.1\n",
        "print(x) \n",
        "print(type(x)) \n",
        "print(y) \n",
        "print(type(y))\n",
        "print(z) \n",
        "print(type(z))"
      ],
      "metadata": {
        "colab": {
          "base_uri": "https://localhost:8080/"
        },
        "id": "Di5Fv8uaY078",
        "outputId": "5d760d72-ed2e-4329-9c89-f7be596e0e7e"
      },
      "execution_count": null,
      "outputs": [
        {
          "output_type": "stream",
          "name": "stdout",
          "text": [
            "5\n",
            "<class 'int'>\n",
            "global\n",
            "<class 'str'>\n",
            "2.1\n",
            "<class 'float'>\n"
          ]
        }
      ]
    },
    {
      "cell_type": "code",
      "source": [
        "#Convert int,float to complex\n",
        "X=complex(x)\n",
        "print(X)\n",
        "#we can't convert string value in compex\n",
        "Z=complex(z)\n",
        "print(Z)"
      ],
      "metadata": {
        "colab": {
          "base_uri": "https://localhost:8080/"
        },
        "id": "mmmpeaIwaaS8",
        "outputId": "df312e51-5ff7-4377-e200-18f150b9d194"
      },
      "execution_count": null,
      "outputs": [
        {
          "output_type": "stream",
          "name": "stdout",
          "text": [
            "(5+0j)\n",
            "(2.1+0j)\n"
          ]
        }
      ]
    },
    {
      "cell_type": "code",
      "source": [
        "Name=\"Prajakta\"\n",
        "Sirname=\"Shinde\"\n",
        "print(Name + Sirname) \n",
        "a=2.3\n",
        "print(a) \n",
        "A=int(a)\n",
        "print(A) \n",
        "b=312\n",
        "print(b) \n",
        "B=float(b) \n",
        "c=3\n",
        "print(c) \n",
        "C=int(c)\n",
        "print(complex(a,b))"
      ],
      "metadata": {
        "colab": {
          "base_uri": "https://localhost:8080/"
        },
        "id": "J-xzVmAWcCir",
        "outputId": "2cfce008-2d6c-45a9-9469-f94affd80222"
      },
      "execution_count": null,
      "outputs": [
        {
          "output_type": "stream",
          "name": "stdout",
          "text": [
            "PrajaktaShinde\n",
            "2.3\n",
            "2\n",
            "312\n",
            "3\n",
            "(2.3+312j)\n"
          ]
        }
      ]
    },
    {
      "cell_type": "code",
      "source": [
        "a=\" Hi how are you? from where there.\"\n",
        "print(a) \n",
        "print(a.strip()) \n",
        "print(a.lower()) \n",
        "print(a.upper())"
      ],
      "metadata": {
        "colab": {
          "base_uri": "https://localhost:8080/"
        },
        "id": "wW-9ue8xgR_O",
        "outputId": "18103412-8fd3-48ec-b1c0-4a2fd0704887"
      },
      "execution_count": null,
      "outputs": [
        {
          "output_type": "stream",
          "name": "stdout",
          "text": [
            " Hi how are you? from where there.\n",
            "Hi how are you? from where there.\n",
            " hi how are you? from where there.\n",
            " HI HOW ARE YOU? FROM WHERE THERE.\n"
          ]
        }
      ]
    },
    {
      "cell_type": "code",
      "source": [
        "age=21\n",
        "txt=\"my name is prajakta, and i am {} years old.\"\n",
        "print(txt.format(age))\n",
        "p=\"Prajakta\"\n",
        "quantity=3\n",
        "item=\"Bread\"\n",
        "prices=500\n",
        "Class=\"Tybsc\"\n",
        "Clg=\"SPC\"\n",
        "P=\"I want {} pieces of {} for {} rupees. My name is {}.I am {} year old. I am student of {} of {} clg\"\n",
        "print(P.format(quantity,item,prices,p,age,Class,Clg))"
      ],
      "metadata": {
        "colab": {
          "base_uri": "https://localhost:8080/"
        },
        "id": "V_CQ4cf4hsZU",
        "outputId": "b19f20f6-7523-4913-e1ab-d63b90a8e10b"
      },
      "execution_count": null,
      "outputs": [
        {
          "output_type": "stream",
          "name": "stdout",
          "text": [
            "my name is prajakta, and i am 21 years old.\n",
            "I want 3 pieces of Bread for 500 rupees. My name is Prajakta.I am 21 year old. I am student of Tybsc of SPC clg\n"
          ]
        }
      ]
    },
    {
      "cell_type": "code",
      "source": [
        " #Escape Character\n",
        "Txt=\"He is too\\\"smart\\\" as I said\"\n",
        "print(Txt)"
      ],
      "metadata": {
        "colab": {
          "base_uri": "https://localhost:8080/"
        },
        "id": "WuTUA4iEidsh",
        "outputId": "9801f01b-6aac-4065-8be6-50fb4b3e579c"
      },
      "execution_count": null,
      "outputs": [
        {
          "output_type": "stream",
          "name": "stdout",
          "text": [
            "He is too\"smart\" as I said\n"
          ]
        }
      ]
    }
  ]
}