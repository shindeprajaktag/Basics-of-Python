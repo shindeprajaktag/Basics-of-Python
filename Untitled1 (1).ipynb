{
  "nbformat": 4,
  "nbformat_minor": 0,
  "metadata": {
    "colab": {
      "name": "Untitled1.ipynb",
      "provenance": [],
      "collapsed_sections": []
    },
    "kernelspec": {
      "name": "python3",
      "display_name": "Python 3"
    },
    "language_info": {
      "name": "python"
    }
  },
  "cells": [
    {
      "cell_type": "code",
      "execution_count": 18,
      "metadata": {
        "colab": {
          "base_uri": "https://localhost:8080/"
        },
        "id": "2H5m3ImgsIXD",
        "outputId": "8f059d28-9fcd-49e6-ff84-d0f832df62a7"
      },
      "outputs": [
        {
          "output_type": "stream",
          "name": "stdout",
          "text": [
            "True\n",
            "False\n",
            "False\n",
            "True\n",
            "True\n",
            "False\n",
            "False\n",
            "True\n",
            "True\n",
            "False\n"
          ]
        }
      ],
      "source": [
        "#Booleans \n",
        "print(10>9)  #Greater\n",
        "print(10==9)  #equal to\n",
        "print(10<9)  #Less\n",
        "print(10!=9)  #Not Equal\n",
        "print(10>=9)  #Greater than Equal to\n",
        "print(10<=9)  #Less than Equal to\n",
        "##Logical Functions(and , or)\n",
        "print(10<9 and 10>9)\n",
        "print(10<9 or 10>9)\n",
        "\n",
        "print(bool(\"Hello\"))\n",
        "print(bool())\n"
      ]
    },
    {
      "cell_type": "code",
      "source": [
        "#Identity (is ,is not)\n",
        "#Membership Operator(in,not in)  ##We cannot use it for string\n",
        "w,x,y,z=10,\"Hii\",\"Hii\",\"Today is the best day in hole year\"\n",
        "print(y in x)\n",
        "print(y not in z )\n",
        "print(x not in y)\n",
        "print(w is x)\n",
        "print(w is not x)\n",
        "print(\"hole\" not in z)"
      ],
      "metadata": {
        "colab": {
          "base_uri": "https://localhost:8080/"
        },
        "id": "988fYIRAxSe-",
        "outputId": "83fb12e0-2e94-4875-a750-9cbe9b12c81e"
      },
      "execution_count": 17,
      "outputs": [
        {
          "output_type": "stream",
          "name": "stdout",
          "text": [
            "True\n",
            "True\n",
            "False\n",
            "False\n",
            "True\n",
            "False\n"
          ]
        }
      ]
    },
    {
      "cell_type": "code",
      "source": [
        "##Indexing\n",
        "# Positive indexing Start from 0\n",
        "# Negative Indexing Start from -1\n",
        "a=\"I Love My Villege \"\n",
        "print(a[10:17])\n",
        "print(a[-10:-1])"
      ],
      "metadata": {
        "colab": {
          "base_uri": "https://localhost:8080/"
        },
        "id": "_P4_yWwgtpUC",
        "outputId": "0e4fbcca-e032-4f86-e86b-e250353dd047"
      },
      "execution_count": 35,
      "outputs": [
        {
          "output_type": "stream",
          "name": "stdout",
          "text": [
            "Villege\n",
            "y Villege\n"
          ]
        }
      ]
    },
    {
      "cell_type": "code",
      "source": [
        "a=\"I like Python\"\n",
        "print(a[-11:-7])\n",
        "print(a[2:6])"
      ],
      "metadata": {
        "colab": {
          "base_uri": "https://localhost:8080/"
        },
        "id": "ph-0Ag-c19ms",
        "outputId": "a13844eb-57ee-4d54-de73-ea98f7bb5c25"
      },
      "execution_count": 30,
      "outputs": [
        {
          "output_type": "stream",
          "name": "stdout",
          "text": [
            "like\n",
            "like\n"
          ]
        }
      ]
    }
  ]
}